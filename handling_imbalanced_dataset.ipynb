{
 "cells": [
  {
   "cell_type": "markdown",
   "id": "5ae522f2",
   "metadata": {},
   "source": [
    "# Handling Imbalanced Dataset\n",
    "\n",
    "**An imbalanced dataset occurs when the number of observations in one class is significantly higher than in the other(s). This imbalance can bias machine learning models toward the majority class, reducing their ability to correctly predict the minority class.**\n",
    "\n",
    "## Resampling Methods\n",
    "* **Random Oversampling (Upsampling):** Duplicate or synthesize samples of the minority class.\n",
    "* **Random Undersampling (Downsampling):** Remove samples from the majority class."
   ]
  },
  {
   "cell_type": "code",
   "execution_count": 1,
   "id": "bdb4cec2",
   "metadata": {},
   "outputs": [
    {
     "name": "stdout",
     "output_type": "stream",
     "text": [
      "900 100\n"
     ]
    }
   ],
   "source": [
    "# Let's create some random samples to demonstrate\n",
    "\n",
    "import numpy as np\n",
    "import pandas as pd\n",
    "\n",
    "np.random.seed(286)\n",
    "\n",
    "n_total = 1000\n",
    "class_zero_ratio = 0.9\n",
    "n_class_zero = int(n_total * class_zero_ratio)\n",
    "n_class_one = int(n_total - n_class_zero)\n",
    "\n",
    "print(n_class_zero, n_class_one)"
   ]
  },
  {
   "cell_type": "markdown",
   "id": "138d6c3d",
   "metadata": {},
   "source": [
    "**Creating the DataFrame with Imbalanced Classes**\n",
    "\n",
    "We create two dataframes for each class with two features generated from a normal distribution. The target column indicates the class label.\n",
    "\n",
    "* For class zero, generate 900 data points.\n",
    "* For class one, generate 100 data points.\n",
    "* We then concatenate these dataframes and reset the index."
   ]
  },
  {
   "cell_type": "code",
   "execution_count": 12,
   "id": "3c7b17c5",
   "metadata": {},
   "outputs": [
    {
     "name": "stdout",
     "output_type": "stream",
     "text": [
      "   feature1  feature2  target\n",
      "0 -0.413095  4.027042       0\n",
      "1  0.180983  5.465918       0\n",
      "2 -0.680601  4.596678       0\n",
      "3  0.472531  4.721452       0\n",
      "4 -0.514688  5.779424       0\n",
      "target\n",
      "0    900\n",
      "1    100\n",
      "Name: count, dtype: int64\n"
     ]
    }
   ],
   "source": [
    "feature1_class0 = np.random.normal(loc=0,\n",
    "                                   scale=1,\n",
    "                                   size=n_class_zero)\n",
    "feature2_class0 = np.random.normal(loc=5,\n",
    "                                   scale=1,\n",
    "                                   size=n_class_zero)\n",
    "class0 = pd.DataFrame({\n",
    "            'feature1': feature1_class0,\n",
    "            'feature2': feature2_class0,\n",
    "            'target': np.zeros(n_class_zero, dtype=int)\n",
    "})\n",
    "\n",
    "feature1_class1 = np.random.normal(loc=1,\n",
    "                                   scale=1,\n",
    "                                   size=n_class_one)\n",
    "feature2_class1 = np.random.normal(loc=5,\n",
    "                                   scale=1,\n",
    "                                   size=n_class_one)\n",
    "class1 = pd.DataFrame({\n",
    "            'feature1': feature1_class1,\n",
    "            'feature2': feature2_class1,\n",
    "            'target': np.ones(n_class_one, dtype=int)\n",
    "})\n",
    "\n",
    "df = pd.concat([class0, class1], axis=0).reset_index(drop=True)\n",
    "\n",
    "print(df.head())\n",
    "print(df['target'].value_counts())"
   ]
  },
  {
   "cell_type": "markdown",
   "id": "72ff654b",
   "metadata": {},
   "source": [
    "## Method 1 - Random Oversampling (Upsampling):\n",
    "\n",
    "Random oversampling is a resampling technique used to balance class distribution by duplicating existing samples from the minority class until it matches the size of the majority class. This process does not alter the feature values or their relationships—the distributions and correlations of the features remain the same. Only the frequency of minority class samples increases, which helps machine learning models pay equal attention to both classes but may increase the risk of overfitting."
   ]
  },
  {
   "cell_type": "code",
   "execution_count": 14,
   "id": "5688449b",
   "metadata": {},
   "outputs": [
    {
     "name": "stdout",
     "output_type": "stream",
     "text": [
      "target\n",
      "0    900\n",
      "1    900\n",
      "Name: count, dtype: int64\n"
     ]
    }
   ],
   "source": [
    "from sklearn.utils import resample\n",
    "\n",
    "# Separate majority and minoroty class\n",
    "df_minority = df[df['target'] == 1]\n",
    "df_majority = df[df['target'] == 0]\n",
    "\n",
    "# Upsample minority class\n",
    "df_minority_upsampled = resample(\n",
    "                                df_minority,\n",
    "                                replace=True,\n",
    "                                n_samples=len(df_majority),\n",
    "                                random_state=42\n",
    ")\n",
    "\n",
    "# Combine df_majority and df_minority_upsampled classes\n",
    "df_upsampled = pd.concat([df_majority, df_minority_upsampled]).reset_index(drop=True) \n",
    "\n",
    "print(df_upsampled['target'].value_counts())"
   ]
  },
  {
   "cell_type": "markdown",
   "id": "27203a50",
   "metadata": {},
   "source": [
    "## Method 2 - Downsampling (Undersampling):\n",
    "\n",
    "Downsampling is a resampling technique used to handle imbalanced datasets by reducing the size of the majority class so that it matches the minority class. Instead of duplicating minority samples, it randomly removes samples from the majority class.\n",
    "\n",
    "* **Goal:** Balance the dataset and prevent the model from being biased toward the majority class.\n",
    "\n",
    "* **Effect on features:** The feature values themselves are not changed; only fewer majority samples are kept.\n",
    "\n",
    "* **Advantage:** Simple and reduces training time.\n",
    "\n",
    "* **Disadvantage:** May discard useful information from the majority class, which can lead to underfitting."
   ]
  },
  {
   "cell_type": "code",
   "execution_count": 15,
   "id": "a7effa58",
   "metadata": {},
   "outputs": [
    {
     "name": "stdout",
     "output_type": "stream",
     "text": [
      "target\n",
      "1    100\n",
      "0    100\n",
      "Name: count, dtype: int64\n"
     ]
    }
   ],
   "source": [
    "# Recreate the original imbalanced dataset\n",
    "np.random.seed(0)\n",
    "\n",
    "n_total = 1000\n",
    "class_zero_ratio = 0.9\n",
    "n_class_zero = int(n_total * class_zero_ratio)\n",
    "n_class_one = n_total - n_class_zero\n",
    "\n",
    "feature1_class0 = np.random.normal(loc=0, scale=1, size=n_class_zero)\n",
    "feature2_class0 = np.random.normal(loc=5, scale=1, size=n_class_zero)\n",
    "class0 = pd.DataFrame({\n",
    "    'feature1': feature1_class0,\n",
    "    'feature2': feature2_class0,\n",
    "    'target': np.zeros(n_class_zero, dtype=int)\n",
    "})\n",
    "\n",
    "feature1_class1 = np.random.normal(loc=2, scale=1, size=n_class_one)\n",
    "feature2_class1 = np.random.normal(loc=6, scale=1, size=n_class_one)\n",
    "class1 = pd.DataFrame({\n",
    "    'feature1': feature1_class1,\n",
    "    'feature2': feature2_class1,\n",
    "    'target': np.ones(n_class_one, dtype=int)\n",
    "})\n",
    "\n",
    "df = pd.concat([class0, class1], axis=0).reset_index(drop=True)\n",
    "\n",
    "# Separate majority and minority classes\n",
    "df_minority = df[df['target'] == 1]\n",
    "df_majority = df[df['target'] == 0]\n",
    "\n",
    "# Downsample majority class\n",
    "df_majority_downsampled = resample(\n",
    "    df_majority,\n",
    "    replace=False,  # sample without replacement\n",
    "    n_samples=len(df_minority),  # match minority class size\n",
    "    random_state=42\n",
    ")\n",
    "\n",
    "# Combine minority class with downsampled majority class\n",
    "df_downsampled = pd.concat([df_minority, df_majority_downsampled]).reset_index(drop=True)\n",
    "\n",
    "print(df_downsampled['target'].value_counts())"
   ]
  }
 ],
 "metadata": {
  "kernelspec": {
   "display_name": "Python 3",
   "language": "python",
   "name": "python3"
  },
  "language_info": {
   "codemirror_mode": {
    "name": "ipython",
    "version": 3
   },
   "file_extension": ".py",
   "mimetype": "text/x-python",
   "name": "python",
   "nbconvert_exporter": "python",
   "pygments_lexer": "ipython3",
   "version": "3.13.0"
  }
 },
 "nbformat": 4,
 "nbformat_minor": 5
}
